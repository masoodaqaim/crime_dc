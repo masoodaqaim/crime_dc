{
 "cells": [
  {
   "cell_type": "code",
   "execution_count": 1,
   "metadata": {},
   "outputs": [],
   "source": [
    "# import libraries\n",
    "import requests"
   ]
  },
  {
   "cell_type": "markdown",
   "metadata": {},
   "source": [
    "## API for grocery stores"
   ]
  },
  {
   "cell_type": "code",
   "execution_count": 21,
   "metadata": {},
   "outputs": [],
   "source": [
    "# find out how to hide your api key\n",
    "\n",
    "# define API Key, endpoint, and headers\n",
    "API_KEY = 'tFEcz2ChYVwW-Dq8TKqzgM3B1RxZ-fbo_y3Zd6pBWMlkmvi8Gy_G1pDSBrDR-68ehmnzIguSqkc4MLKNPpgQvlk6BiaLNxZGmIYBOA0JAqYi9mglAEqIqE24gJTjW3Yx'\n",
    "ENPOINT = 'https://api.yelp.com/v3/businesses/search'\n",
    "HEADERS = {'Authorization': 'bearer %s' % API_KEY} # not sure what 'bearer' means...\n",
    "\n",
    "# parameters\n",
    "PARAMETERS = {'term': 'grocery store',\n",
    "              'limit': 50,\n",
    "              'location': 'washington dc'}\n",
    "\n",
    "# make the request\n",
    "response = requests.get(url=ENPOINT,\n",
    "                        params=PARAMETERS,\n",
    "                        headers=HEADERS)"
   ]
  },
  {
   "cell_type": "code",
   "execution_count": 24,
   "metadata": {},
   "outputs": [],
   "source": [
    "# convert json to dict\n",
    "yelp_data = response.json()"
   ]
  },
  {
   "cell_type": "code",
   "execution_count": 35,
   "metadata": {},
   "outputs": [
    {
     "name": "stdout",
     "output_type": "stream",
     "text": [
      "dict_keys(['businesses', 'total', 'region'])\n",
      "<class 'dict'>\n"
     ]
    }
   ],
   "source": [
    "print(yelp_data.keys())\n",
    "print(type(yelp_data))"
   ]
  },
  {
   "cell_type": "code",
   "execution_count": 44,
   "metadata": {},
   "outputs": [],
   "source": [
    "#print(yelp_data['businesses'])\n",
    "name = []\n",
    "lat = []\n",
    "lon = []\n",
    "\n",
    "for biz in yelp_data['businesses']:\n",
    "    name.append(biz['name'])\n",
    "    lat.append(biz['coordinates']['latitude'])\n",
    "    lon.append(biz['coordinates']['longitude'])"
   ]
  },
  {
   "cell_type": "code",
   "execution_count": 51,
   "metadata": {},
   "outputs": [],
   "source": [
    "import pandas as pd\n",
    "\n",
    "data = {'Name': name,\n",
    "        'Lat': lat,\n",
    "        'Lon': lon}\n",
    "\n",
    "grocery_store = pd.DataFrame(data,\n",
    "                             columns=['Name', 'Lat', 'Lon'])"
   ]
  },
  {
   "cell_type": "code",
   "execution_count": 56,
   "metadata": {},
   "outputs": [
    {
     "data": {
      "text/html": [
       "<div>\n",
       "<style scoped>\n",
       "    .dataframe tbody tr th:only-of-type {\n",
       "        vertical-align: middle;\n",
       "    }\n",
       "\n",
       "    .dataframe tbody tr th {\n",
       "        vertical-align: top;\n",
       "    }\n",
       "\n",
       "    .dataframe thead th {\n",
       "        text-align: right;\n",
       "    }\n",
       "</style>\n",
       "<table border=\"1\" class=\"dataframe\">\n",
       "  <thead>\n",
       "    <tr style=\"text-align: right;\">\n",
       "      <th></th>\n",
       "      <th>Name</th>\n",
       "      <th>Lat</th>\n",
       "      <th>Lon</th>\n",
       "    </tr>\n",
       "  </thead>\n",
       "  <tbody>\n",
       "    <tr>\n",
       "      <th>0</th>\n",
       "      <td>Giant</td>\n",
       "      <td>38.908980</td>\n",
       "      <td>-77.022060</td>\n",
       "    </tr>\n",
       "    <tr>\n",
       "      <th>1</th>\n",
       "      <td>Whole Foods Market</td>\n",
       "      <td>38.909365</td>\n",
       "      <td>-77.033428</td>\n",
       "    </tr>\n",
       "    <tr>\n",
       "      <th>2</th>\n",
       "      <td>Trader Joe's</td>\n",
       "      <td>38.916148</td>\n",
       "      <td>-77.032033</td>\n",
       "    </tr>\n",
       "    <tr>\n",
       "      <th>3</th>\n",
       "      <td>Trader Joe's</td>\n",
       "      <td>38.904093</td>\n",
       "      <td>-77.053024</td>\n",
       "    </tr>\n",
       "    <tr>\n",
       "      <th>4</th>\n",
       "      <td>Safeway</td>\n",
       "      <td>38.903541</td>\n",
       "      <td>-77.018836</td>\n",
       "    </tr>\n",
       "  </tbody>\n",
       "</table>\n",
       "</div>"
      ],
      "text/plain": [
       "                 Name        Lat        Lon\n",
       "0               Giant  38.908980 -77.022060\n",
       "1  Whole Foods Market  38.909365 -77.033428\n",
       "2        Trader Joe's  38.916148 -77.032033\n",
       "3        Trader Joe's  38.904093 -77.053024\n",
       "4             Safeway  38.903541 -77.018836"
      ]
     },
     "execution_count": 56,
     "metadata": {},
     "output_type": "execute_result"
    }
   ],
   "source": [
    "grocery_store.head()"
   ]
  },
  {
   "cell_type": "code",
   "execution_count": 57,
   "metadata": {},
   "outputs": [],
   "source": [
    "grocery_store.to_csv('grocery_store.csv')"
   ]
  },
  {
   "cell_type": "markdown",
   "metadata": {},
   "source": [
    "## API for farmers markets"
   ]
  },
  {
   "cell_type": "code",
   "execution_count": 2,
   "metadata": {},
   "outputs": [],
   "source": [
    "# find out how to hide your api key\n",
    "\n",
    "# define API Key, endpoint, and headers\n",
    "API_KEY = 'tFEcz2ChYVwW-Dq8TKqzgM3B1RxZ-fbo_y3Zd6pBWMlkmvi8Gy_G1pDSBrDR-68ehmnzIguSqkc4MLKNPpgQvlk6BiaLNxZGmIYBOA0JAqYi9mglAEqIqE24gJTjW3Yx'\n",
    "ENPOINT = 'https://api.yelp.com/v3/businesses/search'\n",
    "HEADERS = {'Authorization': 'bearer %s' % API_KEY} # not sure what 'bearer' means...\n",
    "\n",
    "# parameters\n",
    "PARAMETERS = {'term': 'farmer',\n",
    "              'limit': 50,\n",
    "              'location': 'washington dc'}\n",
    "\n",
    "# make the request\n",
    "response = requests.get(url=ENPOINT,\n",
    "                        params=PARAMETERS,\n",
    "                        headers=HEADERS)"
   ]
  },
  {
   "cell_type": "code",
   "execution_count": 3,
   "metadata": {},
   "outputs": [],
   "source": [
    "# convert json to dict\n",
    "yelp_data_farmers = response.json()"
   ]
  },
  {
   "cell_type": "code",
   "execution_count": 4,
   "metadata": {},
   "outputs": [
    {
     "name": "stdout",
     "output_type": "stream",
     "text": [
      "dict_keys(['businesses', 'total', 'region'])\n",
      "<class 'dict'>\n"
     ]
    }
   ],
   "source": [
    "print(yelp_data_farmers.keys())\n",
    "print(type(yelp_data_farmers))"
   ]
  },
  {
   "cell_type": "code",
   "execution_count": null,
   "metadata": {},
   "outputs": [],
   "source": []
  },
  {
   "cell_type": "code",
   "execution_count": 6,
   "metadata": {},
   "outputs": [],
   "source": [
    "name = []\n",
    "lat = []\n",
    "lon = []\n",
    "\n",
    "for biz in yelp_data_farmers['businesses']:\n",
    "    name.append(biz['name'])\n",
    "    lat.append(biz['coordinates']['latitude'])\n",
    "    lon.append(biz['coordinates']['longitude'])"
   ]
  },
  {
   "cell_type": "code",
   "execution_count": 8,
   "metadata": {},
   "outputs": [],
   "source": [
    "import pandas as pd\n",
    "\n",
    "data = {'Name': name,\n",
    "        'Lat': lat,\n",
    "        'Lon': lon}\n",
    "\n",
    "farmers_market = pd.DataFrame(data,\n",
    "                             columns=['Name', 'Lat', 'Lon'])"
   ]
  },
  {
   "cell_type": "code",
   "execution_count": 9,
   "metadata": {},
   "outputs": [
    {
     "data": {
      "text/html": [
       "<div>\n",
       "<style scoped>\n",
       "    .dataframe tbody tr th:only-of-type {\n",
       "        vertical-align: middle;\n",
       "    }\n",
       "\n",
       "    .dataframe tbody tr th {\n",
       "        vertical-align: top;\n",
       "    }\n",
       "\n",
       "    .dataframe thead th {\n",
       "        text-align: right;\n",
       "    }\n",
       "</style>\n",
       "<table border=\"1\" class=\"dataframe\">\n",
       "  <thead>\n",
       "    <tr style=\"text-align: right;\">\n",
       "      <th></th>\n",
       "      <th>Name</th>\n",
       "      <th>Lat</th>\n",
       "      <th>Lon</th>\n",
       "    </tr>\n",
       "  </thead>\n",
       "  <tbody>\n",
       "    <tr>\n",
       "      <th>0</th>\n",
       "      <td>Farmers Fishers Bakers</td>\n",
       "      <td>38.901699</td>\n",
       "      <td>-77.059744</td>\n",
       "    </tr>\n",
       "    <tr>\n",
       "      <th>1</th>\n",
       "      <td>Farmers &amp; Distillers</td>\n",
       "      <td>38.901278</td>\n",
       "      <td>-77.020213</td>\n",
       "    </tr>\n",
       "    <tr>\n",
       "      <th>2</th>\n",
       "      <td>Founding Farmers - Washington</td>\n",
       "      <td>38.900319</td>\n",
       "      <td>-77.044476</td>\n",
       "    </tr>\n",
       "    <tr>\n",
       "      <th>3</th>\n",
       "      <td>Founding Farmers - Tysons</td>\n",
       "      <td>38.922694</td>\n",
       "      <td>-77.223021</td>\n",
       "    </tr>\n",
       "    <tr>\n",
       "      <th>4</th>\n",
       "      <td>MoCo's Founding Farmers</td>\n",
       "      <td>39.060000</td>\n",
       "      <td>-77.156845</td>\n",
       "    </tr>\n",
       "  </tbody>\n",
       "</table>\n",
       "</div>"
      ],
      "text/plain": [
       "                            Name        Lat        Lon\n",
       "0         Farmers Fishers Bakers  38.901699 -77.059744\n",
       "1           Farmers & Distillers  38.901278 -77.020213\n",
       "2  Founding Farmers - Washington  38.900319 -77.044476\n",
       "3      Founding Farmers - Tysons  38.922694 -77.223021\n",
       "4        MoCo's Founding Farmers  39.060000 -77.156845"
      ]
     },
     "execution_count": 9,
     "metadata": {},
     "output_type": "execute_result"
    }
   ],
   "source": [
    "farmers_market.head()"
   ]
  },
  {
   "cell_type": "code",
   "execution_count": 10,
   "metadata": {},
   "outputs": [],
   "source": [
    "farmers_market.to_csv('farmers_marketr.csv')"
   ]
  },
  {
   "cell_type": "markdown",
   "metadata": {},
   "source": [
    "## API for landmarks"
   ]
  },
  {
   "cell_type": "code",
   "execution_count": 3,
   "metadata": {},
   "outputs": [],
   "source": [
    "# find out how to hide your api key\n",
    "\n",
    "# define API Key, endpoint, and headers\n",
    "API_KEY = 'tFEcz2ChYVwW-Dq8TKqzgM3B1RxZ-fbo_y3Zd6pBWMlkmvi8Gy_G1pDSBrDR-68ehmnzIguSqkc4MLKNPpgQvlk6BiaLNxZGmIYBOA0JAqYi9mglAEqIqE24gJTjW3Yx'\n",
    "ENPOINT = 'https://api.yelp.com/v3/businesses/search'\n",
    "HEADERS = {'Authorization': 'bearer %s' % API_KEY} # not sure what 'bearer' means...\n",
    "\n",
    "# parameters\n",
    "PARAMETERS = {'term': 'landmarks',\n",
    "              'limit': 20,\n",
    "              'location': 'washington dc'}\n",
    "\n",
    "# make the request\n",
    "response = requests.get(url=ENPOINT,\n",
    "                        params=PARAMETERS,\n",
    "                        headers=HEADERS)\n"
   ]
  },
  {
   "cell_type": "code",
   "execution_count": 5,
   "metadata": {},
   "outputs": [
    {
     "name": "stdout",
     "output_type": "stream",
     "text": [
      "dict_keys(['businesses', 'total', 'region'])\n",
      "<class 'dict'>\n"
     ]
    }
   ],
   "source": [
    "# convert json to dict\n",
    "yelp_data_landmarks = response.json()\n",
    "\n",
    "print(yelp_data_landmarks.keys())\n",
    "print(type(yelp_data_landmarks))"
   ]
  },
  {
   "cell_type": "code",
   "execution_count": 6,
   "metadata": {},
   "outputs": [],
   "source": [
    "import pandas as pd\n",
    "\n",
    "name = []\n",
    "lat = []\n",
    "lon = []\n",
    "\n",
    "for biz in yelp_data_landmarks['businesses']:\n",
    "    name.append(biz['name'])\n",
    "    lat.append(biz['coordinates']['latitude'])\n",
    "    lon.append(biz['coordinates']['longitude'])\n",
    "\n",
    "data = {'Name': name,\n",
    "        'Lat': lat,\n",
    "        'Lon': lon}\n",
    "\n",
    "landmarks = pd.DataFrame(data,\n",
    "                         columns=['Name', 'Lat', 'Lon'])"
   ]
  },
  {
   "cell_type": "code",
   "execution_count": 9,
   "metadata": {},
   "outputs": [
    {
     "data": {
      "text/html": [
       "<div>\n",
       "<style scoped>\n",
       "    .dataframe tbody tr th:only-of-type {\n",
       "        vertical-align: middle;\n",
       "    }\n",
       "\n",
       "    .dataframe tbody tr th {\n",
       "        vertical-align: top;\n",
       "    }\n",
       "\n",
       "    .dataframe thead th {\n",
       "        text-align: right;\n",
       "    }\n",
       "</style>\n",
       "<table border=\"1\" class=\"dataframe\">\n",
       "  <thead>\n",
       "    <tr style=\"text-align: right;\">\n",
       "      <th></th>\n",
       "      <th>Name</th>\n",
       "      <th>Lat</th>\n",
       "      <th>Lon</th>\n",
       "    </tr>\n",
       "  </thead>\n",
       "  <tbody>\n",
       "    <tr>\n",
       "      <th>0</th>\n",
       "      <td>Landmark's E Street Cinema</td>\n",
       "      <td>38.896260</td>\n",
       "      <td>-77.026649</td>\n",
       "    </tr>\n",
       "    <tr>\n",
       "      <th>1</th>\n",
       "      <td>Landmark Theatres - Atlantic Plumbing Cinema</td>\n",
       "      <td>38.917935</td>\n",
       "      <td>-77.023234</td>\n",
       "    </tr>\n",
       "    <tr>\n",
       "      <th>2</th>\n",
       "      <td>Bethesda Row Cinema</td>\n",
       "      <td>38.981772</td>\n",
       "      <td>-77.095140</td>\n",
       "    </tr>\n",
       "    <tr>\n",
       "      <th>3</th>\n",
       "      <td>Library of Congress</td>\n",
       "      <td>38.888733</td>\n",
       "      <td>-77.004502</td>\n",
       "    </tr>\n",
       "    <tr>\n",
       "      <th>4</th>\n",
       "      <td>Lincoln Memorial</td>\n",
       "      <td>38.889346</td>\n",
       "      <td>-77.050200</td>\n",
       "    </tr>\n",
       "  </tbody>\n",
       "</table>\n",
       "</div>"
      ],
      "text/plain": [
       "                                           Name        Lat        Lon\n",
       "0                    Landmark's E Street Cinema  38.896260 -77.026649\n",
       "1  Landmark Theatres - Atlantic Plumbing Cinema  38.917935 -77.023234\n",
       "2                           Bethesda Row Cinema  38.981772 -77.095140\n",
       "3                           Library of Congress  38.888733 -77.004502\n",
       "4                              Lincoln Memorial  38.889346 -77.050200"
      ]
     },
     "execution_count": 9,
     "metadata": {},
     "output_type": "execute_result"
    }
   ],
   "source": [
    "landmarks.head()"
   ]
  },
  {
   "cell_type": "code",
   "execution_count": 10,
   "metadata": {},
   "outputs": [],
   "source": [
    "landmarks.to_csv('landmarks.csv')"
   ]
  },
  {
   "cell_type": "code",
   "execution_count": null,
   "metadata": {},
   "outputs": [],
   "source": []
  }
 ],
 "metadata": {
  "kernelspec": {
   "display_name": "Python 3",
   "language": "python",
   "name": "python3"
  },
  "language_info": {
   "codemirror_mode": {
    "name": "ipython",
    "version": 3
   },
   "file_extension": ".py",
   "mimetype": "text/x-python",
   "name": "python",
   "nbconvert_exporter": "python",
   "pygments_lexer": "ipython3",
   "version": "3.6.8"
  }
 },
 "nbformat": 4,
 "nbformat_minor": 2
}
