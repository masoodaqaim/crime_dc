{
 "cells": [
  {
   "cell_type": "markdown",
   "metadata": {},
   "source": [
    "# Exploratory Data Analysis"
   ]
  },
  {
   "cell_type": "markdown",
   "metadata": {},
   "source": [
    "DC Police have created an interactive web app called [DC Crime Card](https://dcatlas.dcgis.dc.gov/crimecards/), which provides the capability to search for specific kinds of crimes and visual them as hotspots. Not all crime is related. There is a significant difference between jaywalking and littering to rape and murder. For this analysis, I narrowed my search for all violent gun-related crimes that occurred in 2017. A total of 1,574 incidents were reported."
   ]
  },
  {
   "cell_type": "markdown",
   "metadata": {},
   "source": [
    "## Loading and Cleaning"
   ]
  },
  {
   "cell_type": "code",
   "execution_count": 21,
   "metadata": {},
   "outputs": [],
   "source": [
    "# importing the libraries\n",
    "import pandas as pd\n",
    "import os\n",
    "import seaborn as sns\n",
    "import matplotlib.pyplot as plt\n",
    "import numpy as np"
   ]
  },
  {
   "cell_type": "code",
   "execution_count": 150,
   "metadata": {},
   "outputs": [],
   "source": [
    "# joining the file\n",
    "file = os.path.join('data/', 'crime', 'crime_full.csv')\n",
    "crime_df = pd.read_csv(file)"
   ]
  },
  {
   "cell_type": "code",
   "execution_count": 189,
   "metadata": {},
   "outputs": [
    {
     "data": {
      "text/html": [
       "<div>\n",
       "<style scoped>\n",
       "    .dataframe tbody tr th:only-of-type {\n",
       "        vertical-align: middle;\n",
       "    }\n",
       "\n",
       "    .dataframe tbody tr th {\n",
       "        vertical-align: top;\n",
       "    }\n",
       "\n",
       "    .dataframe thead th {\n",
       "        text-align: right;\n",
       "    }\n",
       "</style>\n",
       "<table border=\"1\" class=\"dataframe\">\n",
       "  <thead>\n",
       "    <tr style=\"text-align: right;\">\n",
       "      <th></th>\n",
       "      <th>NEIGHBORHOOD_CLUSTER</th>\n",
       "      <th>CENSUS_TRACT</th>\n",
       "      <th>offensegroup</th>\n",
       "      <th>LONGITUDE</th>\n",
       "      <th>END_DATE</th>\n",
       "      <th>offense-text</th>\n",
       "      <th>SHIFT</th>\n",
       "      <th>YBLOCK</th>\n",
       "      <th>DISTRICT</th>\n",
       "      <th>WARD</th>\n",
       "      <th>...</th>\n",
       "      <th>CCN</th>\n",
       "      <th>OFFENSE</th>\n",
       "      <th>OCTO_RECORD_ID</th>\n",
       "      <th>ANC</th>\n",
       "      <th>REPORT_DAT</th>\n",
       "      <th>METHOD</th>\n",
       "      <th>location</th>\n",
       "      <th>LATITUDE</th>\n",
       "      <th>Month</th>\n",
       "      <th>Weekday</th>\n",
       "    </tr>\n",
       "  </thead>\n",
       "  <tbody>\n",
       "    <tr>\n",
       "      <th>0</th>\n",
       "      <td>cluster 22</td>\n",
       "      <td>11001011100</td>\n",
       "      <td>violent</td>\n",
       "      <td>-76.974191</td>\n",
       "      <td>2017-11-13T11:35:34.000</td>\n",
       "      <td>robbery</td>\n",
       "      <td>day</td>\n",
       "      <td>139566</td>\n",
       "      <td>5</td>\n",
       "      <td>5</td>\n",
       "      <td>...</td>\n",
       "      <td>17196635</td>\n",
       "      <td>robbery</td>\n",
       "      <td>17196635-01</td>\n",
       "      <td>5C</td>\n",
       "      <td>2017-11-13T16:35:36.000Z</td>\n",
       "      <td>gun</td>\n",
       "      <td>38.923973417948297,-76.974193510301745</td>\n",
       "      <td>38.923966</td>\n",
       "      <td>Nov</td>\n",
       "      <td>Monday</td>\n",
       "    </tr>\n",
       "    <tr>\n",
       "      <th>1</th>\n",
       "      <td>cluster 31</td>\n",
       "      <td>11001007809</td>\n",
       "      <td>violent</td>\n",
       "      <td>-76.927129</td>\n",
       "      <td>2017-11-17T22:57:16.000</td>\n",
       "      <td>assault w/dangerous weapon</td>\n",
       "      <td>evening</td>\n",
       "      <td>136994</td>\n",
       "      <td>6</td>\n",
       "      <td>7</td>\n",
       "      <td>...</td>\n",
       "      <td>17199382</td>\n",
       "      <td>assault w/dangerous weapon</td>\n",
       "      <td>17199382-01</td>\n",
       "      <td>7C</td>\n",
       "      <td>2017-11-18T03:57:39.000Z</td>\n",
       "      <td>gun</td>\n",
       "      <td>38.900784092272893,-76.927131753204847</td>\n",
       "      <td>38.900776</td>\n",
       "      <td>Nov</td>\n",
       "      <td>Friday</td>\n",
       "    </tr>\n",
       "    <tr>\n",
       "      <th>2</th>\n",
       "      <td>cluster 22</td>\n",
       "      <td>11001009102</td>\n",
       "      <td>violent</td>\n",
       "      <td>-76.984881</td>\n",
       "      <td>2017-11-17T22:45:01.000</td>\n",
       "      <td>assault w/dangerous weapon</td>\n",
       "      <td>midnight</td>\n",
       "      <td>139563</td>\n",
       "      <td>5</td>\n",
       "      <td>5</td>\n",
       "      <td>...</td>\n",
       "      <td>17199489</td>\n",
       "      <td>assault w/dangerous weapon</td>\n",
       "      <td>17199489-01</td>\n",
       "      <td>5C</td>\n",
       "      <td>2017-11-18T07:01:11.000Z</td>\n",
       "      <td>gun</td>\n",
       "      <td>38.923948264522402,-76.984883745500071</td>\n",
       "      <td>38.923940</td>\n",
       "      <td>Nov</td>\n",
       "      <td>Friday</td>\n",
       "    </tr>\n",
       "    <tr>\n",
       "      <th>3</th>\n",
       "      <td>cluster 17</td>\n",
       "      <td>11001001803</td>\n",
       "      <td>violent</td>\n",
       "      <td>-77.036383</td>\n",
       "      <td>2017-09-21T01:45:23.000</td>\n",
       "      <td>robbery</td>\n",
       "      <td>day</td>\n",
       "      <td>144379</td>\n",
       "      <td>4</td>\n",
       "      <td>4</td>\n",
       "      <td>...</td>\n",
       "      <td>17163823</td>\n",
       "      <td>robbery</td>\n",
       "      <td>17163823-01</td>\n",
       "      <td>4A</td>\n",
       "      <td>2017-09-21T13:58:32.000Z</td>\n",
       "      <td>gun</td>\n",
       "      <td>38.967327474290151,-77.036385027160023</td>\n",
       "      <td>38.967320</td>\n",
       "      <td>Sep</td>\n",
       "      <td>Thursday</td>\n",
       "    </tr>\n",
       "    <tr>\n",
       "      <th>4</th>\n",
       "      <td>cluster 21</td>\n",
       "      <td>11001003400</td>\n",
       "      <td>violent</td>\n",
       "      <td>-77.015013</td>\n",
       "      <td>2017-10-25T00:27:59.000</td>\n",
       "      <td>robbery</td>\n",
       "      <td>midnight</td>\n",
       "      <td>138541</td>\n",
       "      <td>3</td>\n",
       "      <td>1</td>\n",
       "      <td>...</td>\n",
       "      <td>17185001</td>\n",
       "      <td>robbery</td>\n",
       "      <td>17185001-01</td>\n",
       "      <td>1B</td>\n",
       "      <td>2017-10-25T08:00:34.000Z</td>\n",
       "      <td>gun</td>\n",
       "      <td>38.914741765118478,-77.015015097113633</td>\n",
       "      <td>38.914734</td>\n",
       "      <td>Oct</td>\n",
       "      <td>Wednesday</td>\n",
       "    </tr>\n",
       "  </tbody>\n",
       "</table>\n",
       "<p>5 rows × 31 columns</p>\n",
       "</div>"
      ],
      "text/plain": [
       "  NEIGHBORHOOD_CLUSTER CENSUS_TRACT offensegroup  LONGITUDE  \\\n",
       "0           cluster 22  11001011100      violent -76.974191   \n",
       "1           cluster 31  11001007809      violent -76.927129   \n",
       "2           cluster 22  11001009102      violent -76.984881   \n",
       "3           cluster 17  11001001803      violent -77.036383   \n",
       "4           cluster 21  11001003400      violent -77.015013   \n",
       "\n",
       "                  END_DATE                offense-text     SHIFT  YBLOCK  \\\n",
       "0  2017-11-13T11:35:34.000                     robbery       day  139566   \n",
       "1  2017-11-17T22:57:16.000  assault w/dangerous weapon   evening  136994   \n",
       "2  2017-11-17T22:45:01.000  assault w/dangerous weapon  midnight  139563   \n",
       "3  2017-09-21T01:45:23.000                     robbery       day  144379   \n",
       "4  2017-10-25T00:27:59.000                     robbery  midnight  138541   \n",
       "\n",
       "   DISTRICT  WARD    ...           CCN                     OFFENSE  \\\n",
       "0         5     5    ...      17196635                     robbery   \n",
       "1         6     7    ...      17199382  assault w/dangerous weapon   \n",
       "2         5     5    ...      17199489  assault w/dangerous weapon   \n",
       "3         4     4    ...      17163823                     robbery   \n",
       "4         3     1    ...      17185001                     robbery   \n",
       "\n",
       "  OCTO_RECORD_ID ANC                REPORT_DAT  METHOD  \\\n",
       "0    17196635-01  5C  2017-11-13T16:35:36.000Z     gun   \n",
       "1    17199382-01  7C  2017-11-18T03:57:39.000Z     gun   \n",
       "2    17199489-01  5C  2017-11-18T07:01:11.000Z     gun   \n",
       "3    17163823-01  4A  2017-09-21T13:58:32.000Z     gun   \n",
       "4    17185001-01  1B  2017-10-25T08:00:34.000Z     gun   \n",
       "\n",
       "                                 location   LATITUDE  Month    Weekday  \n",
       "0  38.923973417948297,-76.974193510301745  38.923966    Nov     Monday  \n",
       "1  38.900784092272893,-76.927131753204847  38.900776    Nov     Friday  \n",
       "2  38.923948264522402,-76.984883745500071  38.923940    Nov     Friday  \n",
       "3  38.967327474290151,-77.036385027160023  38.967320    Sep   Thursday  \n",
       "4  38.914741765118478,-77.015015097113633  38.914734    Oct  Wednesday  \n",
       "\n",
       "[5 rows x 31 columns]"
      ]
     },
     "execution_count": 189,
     "metadata": {},
     "output_type": "execute_result"
    }
   ],
   "source": [
    "# viewing and understanding the data types for each column\n",
    "crime_df.head()\n",
    "#crime_df.info()"
   ]
  },
  {
   "cell_type": "markdown",
   "metadata": {},
   "source": [
    "Let's convert the start date to datetime format so we can get a sense of the crime committed per month and week. The `crime_df['START_DATE']` column is formatted as Year, month, date, time. However, there is a `T` between date and time. I'll replace the `T` with a space and then format it correctly. I'll also remove the microseconds.\n",
    "\n",
    "`crime_df['CENSUS_TRACT']` will be converted to an int type and padded with the correct GEO code so it can be paired with the GEOJSON file\n",
    "- if 3 digits: add 11001000\n",
    "- if 4 digits: add 1100100\n",
    "- if 5 digits: add 110010"
   ]
  },
  {
   "cell_type": "code",
   "execution_count": 152,
   "metadata": {},
   "outputs": [],
   "source": [
    "crime_df['START_DATE'] = crime_df['START_DATE'].str.replace('T', ' ').str.replace('.000', '')\n",
    "crime_df['START_DATE'] = pd.to_datetime(crime_df['START_DATE'], format='%Y-%m-%d %H:%M:%S')\n",
    "\n",
    "crime_df['CENSUS_TRACT'] = crime_df['CENSUS_TRACT'].fillna(0)\n",
    "crime_df['CENSUS_TRACT'] = crime_df['CENSUS_TRACT'].astype(int) # converted to int so remove he .0 decimal \n",
    "\n",
    "crime_df['CENSUS_TRACT'] = crime_df['CENSUS_TRACT'].astype(str) # converted to str so i can pad the digits needed\n",
    "#crime_df['CENSUS_TRACT'] = crime_df['CENSUS_TRACT'].str.rjust(11, '110010')\n",
    "#len(crime_df['CENSUS_TRACT'][0])\n",
    "\n",
    "new_list =[]\n",
    "for i in crime_df['CENSUS_TRACT']:\n",
    "    if len(i) == 3:\n",
    "        i='11001000'+i\n",
    "    if len(i) == 4:\n",
    "        i='1100100'+i\n",
    "    if len(i) == 5:\n",
    "        i='110010'+i\n",
    "    new_list.append(i)\n",
    "\n",
    "#print(new_list)\n",
    "crime_df['CENSUS_TRACT'] = new_list\n",
    "#crime_df['CENSUS_TRACT'] = crime_df['CENSUS_TRACT'].astype(str)"
   ]
  },
  {
   "cell_type": "code",
   "execution_count": 213,
   "metadata": {},
   "outputs": [
    {
     "name": "stdout",
     "output_type": "stream",
     "text": [
      "<class 'pandas.core.frame.DataFrame'>\n",
      "RangeIndex: 1574 entries, 0 to 1573\n",
      "Data columns (total 32 columns):\n",
      "NEIGHBORHOOD_CLUSTER    1559 non-null object\n",
      "CENSUS_TRACT            1574 non-null object\n",
      "offensegroup            1574 non-null object\n",
      "LONGITUDE               1574 non-null float64\n",
      "END_DATE                1424 non-null object\n",
      "offense-text            1574 non-null object\n",
      "SHIFT                   1574 non-null object\n",
      "YBLOCK                  1574 non-null int64\n",
      "DISTRICT                1574 non-null int64\n",
      "WARD                    1574 non-null int64\n",
      "YEAR                    1574 non-null int64\n",
      "offensekey              1574 non-null object\n",
      "BID                     89 non-null object\n",
      "sector                  1574 non-null object\n",
      "PSA                     1574 non-null int64\n",
      "ucr-rank                1574 non-null int64\n",
      "BLOCK_GROUP             1561 non-null object\n",
      "VOTING_PRECINCT         1574 non-null object\n",
      "XBLOCK                  1574 non-null int64\n",
      "BLOCK                   1574 non-null object\n",
      "START_DATE              1574 non-null datetime64[ns]\n",
      "CCN                     1574 non-null int64\n",
      "OFFENSE                 1574 non-null object\n",
      "OCTO_RECORD_ID          1574 non-null object\n",
      "ANC                     1574 non-null object\n",
      "REPORT_DAT              1574 non-null object\n",
      "METHOD                  1574 non-null object\n",
      "location                1574 non-null object\n",
      "LATITUDE                1574 non-null float64\n",
      "Month                   1574 non-null category\n",
      "Weekday                 1574 non-null category\n",
      "Count                   0 non-null float64\n",
      "dtypes: category(2), datetime64[ns](1), float64(3), int64(8), object(18)\n",
      "memory usage: 372.8+ KB\n"
     ]
    }
   ],
   "source": [
    "# verify\n",
    "crime_df.info()"
   ]
  },
  {
   "cell_type": "markdown",
   "metadata": {},
   "source": [
    "I'll create a new `Month` and `Weekday` column to analyze when crimes occur."
   ]
  },
  {
   "cell_type": "code",
   "execution_count": 154,
   "metadata": {},
   "outputs": [],
   "source": [
    "import calendar\n",
    "\n",
    "crime_df['Month'] = (crime_df['START_DATE'].dt.month).apply(lambda x: calendar.month_abbr[x])\n",
    "crime_df['Month'] = pd.Categorical(crime_df['Month'], categories=['Jan', 'Feb', 'Mar', 'Apr', 'May', 'Jun', 'Jul', 'Aug', \n",
    "                                                                  'Sep', 'Oct', 'Nov', 'Dec'], ordered=True)\n",
    "\n",
    "crime_df['Weekday'] = crime_df['START_DATE'].dt.weekday_name\n",
    "crime_df['Weekday'] = pd.Categorical(crime_df['Weekday'], categories=['Monday', 'Tuesday', 'Wednesday', 'Thursday', \n",
    "                                                                      'Friday', 'Saturday', 'Sunday'], ordered=True)"
   ]
  },
  {
   "cell_type": "markdown",
   "metadata": {},
   "source": [
    "Now that I have `Month` and `Weekday` columns, I can start the exploring."
   ]
  },
  {
   "cell_type": "markdown",
   "metadata": {},
   "source": [
    "## Let's explore the data"
   ]
  },
  {
   "cell_type": "markdown",
   "metadata": {},
   "source": [
    "### Number of crimes reported each month"
   ]
  },
  {
   "cell_type": "code",
   "execution_count": 155,
   "metadata": {},
   "outputs": [
    {
     "data": {
      "image/png": "[encoded data removed]",
      "text/plain": [
       "<Figure size 432x288 with 1 Axes>"
      ]
     },
     "metadata": {
      "needs_background": "light"
     },
     "output_type": "display_data"
    }
   ],
   "source": [
    "sns.countplot(x='Month', data=crime_df)\n",
    "plt.ylabel('Number of Crimes')\n",
    "plt.show()"
   ]
  },
  {
   "cell_type": "code",
   "execution_count": 156,
   "metadata": {},
   "outputs": [
    {
     "data": {
      "image/png": "[encoded data removed]",
      "text/plain": [
       "<Figure size 432x288 with 1 Axes>"
      ]
     },
     "metadata": {
      "needs_background": "light"
     },
     "output_type": "display_data"
    }
   ],
   "source": [
    "month = ['Jan', 'Feb', 'Mar', 'Apr', 'May', 'Jun', 'Jul', 'Aug', 'Sep', 'Oct', 'Nov', 'Dec']\n",
    "crime_df.groupby('Month')['CENSUS_TRACT'].count().plot(marker='o')\n",
    "plt.xticks(np.arange(12), month)\n",
    "plt.ylabel('Number of Crimes')\n",
    "plt.show()"
   ]
  },
  {
   "cell_type": "markdown",
   "metadata": {},
   "source": [
    "Crime seems to decrease during the winter months with the lowest point in March. Around May, it starts to increase with a peack in November."
   ]
  },
  {
   "cell_type": "markdown",
   "metadata": {},
   "source": [
    "### Number of crimes reported each weekday"
   ]
  },
  {
   "cell_type": "code",
   "execution_count": 157,
   "metadata": {},
   "outputs": [
    {
     "data": {
      "image/png": "[encoded data removed]",
      "text/plain": [
       "<Figure size 432x288 with 1 Axes>"
      ]
     },
     "metadata": {
      "needs_background": "light"
     },
     "output_type": "display_data"
    }
   ],
   "source": [
    "sns.countplot(x='Weekday', data=crime_df)\n",
    "plt.ylabel('Number of Crimes')\n",
    "plt.show()"
   ]
  },
  {
   "cell_type": "code",
   "execution_count": 158,
   "metadata": {},
   "outputs": [
    {
     "data": {
      "image/png": "[encoded data removed]",
      "text/plain": [
       "<Figure size 432x288 with 1 Axes>"
      ]
     },
     "metadata": {
      "needs_background": "light"
     },
     "output_type": "display_data"
    }
   ],
   "source": [
    "weekday = ['Monday', 'Tuesday', 'Wednesday', 'Thursday', 'Friday', 'Saturday', 'Sunday']\n",
    "crime_df.groupby('Weekday')['CENSUS_TRACT'].count().plot(marker='o')\n",
    "plt.xticks(np.arange(7), weekday)\n",
    "plt.ylabel('Number of Crimes')\n",
    "plt.show()"
   ]
  },
  {
   "cell_type": "markdown",
   "metadata": {},
   "source": [
    "Thursday's see the lowest crime incidents while the weekend (with a peak on Saturday) see the highest."
   ]
  },
  {
   "cell_type": "markdown",
   "metadata": {},
   "source": [
    "### Time of day violent crimes occur"
   ]
  },
  {
   "cell_type": "code",
   "execution_count": 191,
   "metadata": {},
   "outputs": [
    {
     "data": {
      "image/png": "[encoded data removed]",
      "text/plain": [
       "<Figure size 432x288 with 1 Axes>"
      ]
     },
     "metadata": {
      "needs_background": "light"
     },
     "output_type": "display_data"
    }
   ],
   "source": [
    "sns.countplot(x='SHIFT', data=crime_df)\n",
    "plt.ylabel('Number of Crimes')\n",
    "plt.show()"
   ]
  },
  {
   "cell_type": "markdown",
   "metadata": {},
   "source": [
    "Violent crimes tend to occur in the evening to midnight time (passed 5pm)"
   ]
  },
  {
   "cell_type": "markdown",
   "metadata": {},
   "source": [
    "### Now I'll analyze where violent crimes occur"
   ]
  },
  {
   "cell_type": "code",
   "execution_count": 159,
   "metadata": {
    "scrolled": true
   },
   "outputs": [
    {
     "data": {
      "text/plain": [
       "166"
      ]
     },
     "execution_count": 159,
     "metadata": {},
     "output_type": "execute_result"
    }
   ],
   "source": [
    "#crime_df['CENSUS_TRACT'].value_counts()\n",
    "crime_df['CENSUS_TRACT'].nunique()"
   ]
  },
  {
   "cell_type": "code",
   "execution_count": 195,
   "metadata": {},
   "outputs": [],
   "source": [
    "location = crime_df['CENSUS_TRACT'].value_counts()\n",
    "#type(location)\n",
    "\n",
    "#location = crime_df.groupby('CENSUS_TRACT').count().sort_values(ascending=False)\n",
    "location = location[:30] # only want the top 25\n",
    "#location"
   ]
  },
  {
   "cell_type": "code",
   "execution_count": 196,
   "metadata": {
    "scrolled": false
   },
   "outputs": [
    {
     "data": {
      "image/png": "[encoded data removed]",
      "text/plain": [
       "<Figure size 1080x360 with 1 Axes>"
      ]
     },
     "metadata": {
      "needs_background": "light"
     },
     "output_type": "display_data"
    }
   ],
   "source": [
    "location.plot(kind='bar', figsize=(15,5))\n",
    "plt.xlabel('Census Tract')\n",
    "plt.ylabel('Number of Crimes')\n",
    "plt.show()"
   ]
  },
  {
   "cell_type": "markdown",
   "metadata": {},
   "source": [
    "The census tracts provide a granular area of DC (there over 170 tracts). This is great when trying to narrow pockets of crime. However, the DC government divides DC into 8 separate areas called Wards. Let’s analyze crime based on Wards. "
   ]
  },
  {
   "cell_type": "code",
   "execution_count": 168,
   "metadata": {},
   "outputs": [
    {
     "data": {
      "image/png": "[encoded data removed]",
      "text/plain": [
       "<Figure size 432x288 with 1 Axes>"
      ]
     },
     "metadata": {
      "needs_background": "light"
     },
     "output_type": "display_data"
    }
   ],
   "source": [
    "sns.countplot(x='WARD', data=crime_df)\n",
    "plt.ylabel('Number of Crimes')\n",
    "plt.show()"
   ]
  },
  {
   "cell_type": "markdown",
   "metadata": {},
   "source": [
    "Most of the violent crimes are committed in DC are in Wards 7 and 8."
   ]
  },
  {
   "cell_type": "markdown",
   "metadata": {},
   "source": [
    "### Analyzing the shift of day for each Ward"
   ]
  },
  {
   "cell_type": "code",
   "execution_count": 185,
   "metadata": {},
   "outputs": [
    {
     "data": {
      "image/png": "[encoded data removed]",
      "text/plain": [
       "<Figure size 1080x360 with 1 Axes>"
      ]
     },
     "metadata": {
      "needs_background": "light"
     },
     "output_type": "display_data"
    }
   ],
   "source": [
    "crime_df.groupby(['WARD', 'SHIFT'])['CENSUS_TRACT'].count().plot(kind='bar', figsize=(15,5))\n",
    "plt.ylabel('Number of Crime')\n",
    "plt.show()"
   ]
  },
  {
   "cell_type": "markdown",
   "metadata": {},
   "source": [
    "Even though most violent crimes occurs in Ward 7 and 8, most of the crimes occur during the evening and midnight."
   ]
  },
  {
   "cell_type": "markdown",
   "metadata": {},
   "source": [
    "The goal is to try to build a model that can predict if a violent crime will occur based on census tract characteristics. I will count the number of crimes occurred for each census and merge it with the dc_data_2017.csv file."
   ]
  },
  {
   "cell_type": "code",
   "execution_count": 239,
   "metadata": {},
   "outputs": [
    {
     "data": {
      "text/plain": [
       "pandas.core.series.Series"
      ]
     },
     "execution_count": 239,
     "metadata": {},
     "output_type": "execute_result"
    }
   ],
   "source": [
    "location = crime_df['CENSUS_TRACT'].value_counts()\n",
    "#crime_df['Count'] = location\n",
    "type(location)\n",
    "#location"
   ]
  },
  {
   "cell_type": "code",
   "execution_count": 294,
   "metadata": {},
   "outputs": [
    {
     "data": {
      "text/html": [
       "<div>\n",
       "<style scoped>\n",
       "    .dataframe tbody tr th:only-of-type {\n",
       "        vertical-align: middle;\n",
       "    }\n",
       "\n",
       "    .dataframe tbody tr th {\n",
       "        vertical-align: top;\n",
       "    }\n",
       "\n",
       "    .dataframe thead th {\n",
       "        text-align: right;\n",
       "    }\n",
       "</style>\n",
       "<table border=\"1\" class=\"dataframe\">\n",
       "  <thead>\n",
       "    <tr style=\"text-align: right;\">\n",
       "      <th></th>\n",
       "      <th>GEOID2</th>\n",
       "      <th>Crime_count</th>\n",
       "    </tr>\n",
       "  </thead>\n",
       "  <tbody>\n",
       "    <tr>\n",
       "      <th>0</th>\n",
       "      <td>11001007803</td>\n",
       "      <td>49</td>\n",
       "    </tr>\n",
       "    <tr>\n",
       "      <th>1</th>\n",
       "      <td>11001007406</td>\n",
       "      <td>38</td>\n",
       "    </tr>\n",
       "    <tr>\n",
       "      <th>2</th>\n",
       "      <td>11001007808</td>\n",
       "      <td>35</td>\n",
       "    </tr>\n",
       "    <tr>\n",
       "      <th>3</th>\n",
       "      <td>11001011100</td>\n",
       "      <td>35</td>\n",
       "    </tr>\n",
       "    <tr>\n",
       "      <th>4</th>\n",
       "      <td>11001007601</td>\n",
       "      <td>32</td>\n",
       "    </tr>\n",
       "  </tbody>\n",
       "</table>\n",
       "</div>"
      ],
      "text/plain": [
       "        GEOID2  Crime_count\n",
       "0  11001007803           49\n",
       "1  11001007406           38\n",
       "2  11001007808           35\n",
       "3  11001011100           35\n",
       "4  11001007601           32"
      ]
     },
     "execution_count": 294,
     "metadata": {},
     "output_type": "execute_result"
    }
   ],
   "source": [
    "temp = pd.DataFrame()\n",
    "temp['Crime_count'] = location\n",
    "temp['GEOID2'] = temp.index\n",
    "temp.reset_index(inplace=True)\n",
    "temp.rename(columns={'index': 'GEOID2'}, inplace=True)\n",
    "temp['GEOID2'] = temp['GEOID2'].astype('int64')\n",
    "#temp.info()\n",
    "temp.head()"
   ]
  },
  {
   "cell_type": "code",
   "execution_count": 300,
   "metadata": {},
   "outputs": [
    {
     "name": "stdout",
     "output_type": "stream",
     "text": [
      "<class 'pandas.core.frame.DataFrame'>\n",
      "RangeIndex: 179 entries, 0 to 178\n",
      "Data columns (total 13 columns):\n",
      "OBJECTID              179 non-null int64\n",
      "TRACT                 179 non-null int64\n",
      "GEO                   179 non-null object\n",
      "GEOID2                179 non-null int64\n",
      "GEO_display_label     179 non-null object\n",
      "Population            179 non-null int64\n",
      "Income                177 non-null float64\n",
      "Home_value            172 non-null float64\n",
      "No_car_percent        175 non-null float64\n",
      "Bachelor_or_higher    178 non-null float64\n",
      "Employment_percent    178 non-null float64\n",
      "Marital_percent       178 non-null float64\n",
      "Veterans_percent      177 non-null float64\n",
      "dtypes: float64(7), int64(4), object(2)\n",
      "memory usage: 18.3+ KB\n"
     ]
    }
   ],
   "source": [
    "# reading the DC census tract dataframe \n",
    "dc_df = pd.read_csv('dc_data_2017.csv')\n",
    "dc_df.info()"
   ]
  },
  {
   "cell_type": "code",
   "execution_count": 312,
   "metadata": {
    "scrolled": false
   },
   "outputs": [
    {
     "data": {
      "text/html": [
       "<div>\n",
       "<style scoped>\n",
       "    .dataframe tbody tr th:only-of-type {\n",
       "        vertical-align: middle;\n",
       "    }\n",
       "\n",
       "    .dataframe tbody tr th {\n",
       "        vertical-align: top;\n",
       "    }\n",
       "\n",
       "    .dataframe thead th {\n",
       "        text-align: right;\n",
       "    }\n",
       "</style>\n",
       "<table border=\"1\" class=\"dataframe\">\n",
       "  <thead>\n",
       "    <tr style=\"text-align: right;\">\n",
       "      <th></th>\n",
       "      <th>OBJECTID</th>\n",
       "      <th>TRACT</th>\n",
       "      <th>GEO</th>\n",
       "      <th>GEOID2</th>\n",
       "      <th>GEO_display_label</th>\n",
       "      <th>Population</th>\n",
       "      <th>Income</th>\n",
       "      <th>Home_value</th>\n",
       "      <th>No_car_percent</th>\n",
       "      <th>Bachelor_or_higher</th>\n",
       "      <th>Employment_percent</th>\n",
       "      <th>Marital_percent</th>\n",
       "      <th>Veterans_percent</th>\n",
       "      <th>Crime_count</th>\n",
       "    </tr>\n",
       "  </thead>\n",
       "  <tbody>\n",
       "    <tr>\n",
       "      <th>0</th>\n",
       "      <td>11</td>\n",
       "      <td>100</td>\n",
       "      <td>1400000US11001000100</td>\n",
       "      <td>11001000100</td>\n",
       "      <td>Census Tract 1, District of Columbia, District...</td>\n",
       "      <td>5170</td>\n",
       "      <td>168477.0</td>\n",
       "      <td>1048200.0</td>\n",
       "      <td>0.181</td>\n",
       "      <td>0.9129</td>\n",
       "      <td>0.754</td>\n",
       "      <td>0.489</td>\n",
       "      <td>0.082</td>\n",
       "      <td>1.0</td>\n",
       "    </tr>\n",
       "    <tr>\n",
       "      <th>1</th>\n",
       "      <td>12</td>\n",
       "      <td>201</td>\n",
       "      <td>1400000US11001000201</td>\n",
       "      <td>11001000201</td>\n",
       "      <td>Census Tract 2.01, District of Columbia, Distr...</td>\n",
       "      <td>3682</td>\n",
       "      <td>NaN</td>\n",
       "      <td>NaN</td>\n",
       "      <td>NaN</td>\n",
       "      <td>1.0000</td>\n",
       "      <td>0.393</td>\n",
       "      <td>0.010</td>\n",
       "      <td>NaN</td>\n",
       "      <td>NaN</td>\n",
       "    </tr>\n",
       "    <tr>\n",
       "      <th>2</th>\n",
       "      <td>13</td>\n",
       "      <td>202</td>\n",
       "      <td>1400000US11001000202</td>\n",
       "      <td>11001000202</td>\n",
       "      <td>Census Tract 2.02, District of Columbia, Distr...</td>\n",
       "      <td>4473</td>\n",
       "      <td>162981.0</td>\n",
       "      <td>1195300.0</td>\n",
       "      <td>0.168</td>\n",
       "      <td>0.9264</td>\n",
       "      <td>0.641</td>\n",
       "      <td>0.305</td>\n",
       "      <td>0.035</td>\n",
       "      <td>4.0</td>\n",
       "    </tr>\n",
       "    <tr>\n",
       "      <th>3</th>\n",
       "      <td>14</td>\n",
       "      <td>300</td>\n",
       "      <td>1400000US11001000300</td>\n",
       "      <td>11001000300</td>\n",
       "      <td>Census Tract 3, District of Columbia, District...</td>\n",
       "      <td>6374</td>\n",
       "      <td>133008.0</td>\n",
       "      <td>893000.0</td>\n",
       "      <td>0.160</td>\n",
       "      <td>0.8909</td>\n",
       "      <td>0.794</td>\n",
       "      <td>0.313</td>\n",
       "      <td>0.021</td>\n",
       "      <td>2.0</td>\n",
       "    </tr>\n",
       "    <tr>\n",
       "      <th>4</th>\n",
       "      <td>15</td>\n",
       "      <td>400</td>\n",
       "      <td>1400000US11001000400</td>\n",
       "      <td>11001000400</td>\n",
       "      <td>Census Tract 4, District of Columbia, District...</td>\n",
       "      <td>1489</td>\n",
       "      <td>143229.0</td>\n",
       "      <td>1223700.0</td>\n",
       "      <td>0.120</td>\n",
       "      <td>0.7906</td>\n",
       "      <td>0.617</td>\n",
       "      <td>0.497</td>\n",
       "      <td>0.044</td>\n",
       "      <td>NaN</td>\n",
       "    </tr>\n",
       "  </tbody>\n",
       "</table>\n",
       "</div>"
      ],
      "text/plain": [
       "   OBJECTID  TRACT                   GEO       GEOID2  \\\n",
       "0        11    100  1400000US11001000100  11001000100   \n",
       "1        12    201  1400000US11001000201  11001000201   \n",
       "2        13    202  1400000US11001000202  11001000202   \n",
       "3        14    300  1400000US11001000300  11001000300   \n",
       "4        15    400  1400000US11001000400  11001000400   \n",
       "\n",
       "                                   GEO_display_label  Population    Income  \\\n",
       "0  Census Tract 1, District of Columbia, District...        5170  168477.0   \n",
       "1  Census Tract 2.01, District of Columbia, Distr...        3682       NaN   \n",
       "2  Census Tract 2.02, District of Columbia, Distr...        4473  162981.0   \n",
       "3  Census Tract 3, District of Columbia, District...        6374  133008.0   \n",
       "4  Census Tract 4, District of Columbia, District...        1489  143229.0   \n",
       "\n",
       "   Home_value  No_car_percent  Bachelor_or_higher  Employment_percent  \\\n",
       "0   1048200.0           0.181              0.9129               0.754   \n",
       "1         NaN             NaN              1.0000               0.393   \n",
       "2   1195300.0           0.168              0.9264               0.641   \n",
       "3    893000.0           0.160              0.8909               0.794   \n",
       "4   1223700.0           0.120              0.7906               0.617   \n",
       "\n",
       "   Marital_percent  Veterans_percent  Crime_count  \n",
       "0            0.489             0.082          1.0  \n",
       "1            0.010               NaN          NaN  \n",
       "2            0.305             0.035          4.0  \n",
       "3            0.313             0.021          2.0  \n",
       "4            0.497             0.044          NaN  "
      ]
     },
     "execution_count": 312,
     "metadata": {},
     "output_type": "execute_result"
    }
   ],
   "source": [
    "merge_df = dc_df.merge(temp, on='GEOID2', how='left')\n",
    "merge_df.head()"
   ]
  },
  {
   "cell_type": "code",
   "execution_count": 313,
   "metadata": {},
   "outputs": [],
   "source": [
    "# save the new merged dataframe to it can be modeled\n",
    "merge_df.to_csv('dc_data_to_model.csv')"
   ]
  }
 ],
 "metadata": {
  "kernelspec": {
   "display_name": "Python 3",
   "language": "python",
   "name": "python3"
  },
  "language_info": {
   "codemirror_mode": {
    "name": "ipython",
    "version": 3
   },
   "file_extension": ".py",
   "mimetype": "text/x-python",
   "name": "python",
   "nbconvert_exporter": "python",
   "pygments_lexer": "ipython3",
   "version": "3.6.8"
  }
 },
 "nbformat": 4,
 "nbformat_minor": 2
}
