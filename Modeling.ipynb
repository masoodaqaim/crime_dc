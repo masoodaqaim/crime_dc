{
 "cells": [
  {
   "cell_type": "markdown",
   "metadata": {},
   "source": [
    "# Building a Machine Learning Model "
   ]
  },
  {
   "cell_type": "code",
   "execution_count": 1,
   "metadata": {},
   "outputs": [],
   "source": [
    "import pandas as pd\n",
    "import os\n",
    "import seaborn as sns\n",
    "import matplotlib.pyplot as plt\n",
    "import numpy as np\n",
    "import xgboost as xgb\n",
    "\n",
    "import warnings\n",
    "warnings.filterwarnings(\"ignore\")"
   ]
  },
  {
   "cell_type": "code",
   "execution_count": 2,
   "metadata": {},
   "outputs": [
    {
     "data": {
      "text/html": [
       "<div>\n",
       "<style scoped>\n",
       "    .dataframe tbody tr th:only-of-type {\n",
       "        vertical-align: middle;\n",
       "    }\n",
       "\n",
       "    .dataframe tbody tr th {\n",
       "        vertical-align: top;\n",
       "    }\n",
       "\n",
       "    .dataframe thead th {\n",
       "        text-align: right;\n",
       "    }\n",
       "</style>\n",
       "<table border=\"1\" class=\"dataframe\">\n",
       "  <thead>\n",
       "    <tr style=\"text-align: right;\">\n",
       "      <th></th>\n",
       "      <th>OBJECTID</th>\n",
       "      <th>TRACT</th>\n",
       "      <th>GEO</th>\n",
       "      <th>GEOID2</th>\n",
       "      <th>GEO_display_label</th>\n",
       "      <th>Population</th>\n",
       "      <th>Income</th>\n",
       "      <th>Home_value</th>\n",
       "      <th>No_car_percent</th>\n",
       "      <th>Bachelor_or_higher</th>\n",
       "      <th>Employment_percent</th>\n",
       "      <th>Marital_percent</th>\n",
       "      <th>Veterans_percent</th>\n",
       "      <th>Crime_count</th>\n",
       "    </tr>\n",
       "  </thead>\n",
       "  <tbody>\n",
       "    <tr>\n",
       "      <th>0</th>\n",
       "      <td>11</td>\n",
       "      <td>100</td>\n",
       "      <td>1400000US11001000100</td>\n",
       "      <td>11001000100</td>\n",
       "      <td>Census Tract 1, District of Columbia, District...</td>\n",
       "      <td>5170</td>\n",
       "      <td>168477.0</td>\n",
       "      <td>1048200.0</td>\n",
       "      <td>0.181</td>\n",
       "      <td>0.9129</td>\n",
       "      <td>0.754</td>\n",
       "      <td>0.489</td>\n",
       "      <td>0.082</td>\n",
       "      <td>1.0</td>\n",
       "    </tr>\n",
       "    <tr>\n",
       "      <th>1</th>\n",
       "      <td>12</td>\n",
       "      <td>201</td>\n",
       "      <td>1400000US11001000201</td>\n",
       "      <td>11001000201</td>\n",
       "      <td>Census Tract 2.01, District of Columbia, Distr...</td>\n",
       "      <td>3682</td>\n",
       "      <td>NaN</td>\n",
       "      <td>NaN</td>\n",
       "      <td>NaN</td>\n",
       "      <td>1.0000</td>\n",
       "      <td>0.393</td>\n",
       "      <td>0.010</td>\n",
       "      <td>NaN</td>\n",
       "      <td>NaN</td>\n",
       "    </tr>\n",
       "    <tr>\n",
       "      <th>2</th>\n",
       "      <td>13</td>\n",
       "      <td>202</td>\n",
       "      <td>1400000US11001000202</td>\n",
       "      <td>11001000202</td>\n",
       "      <td>Census Tract 2.02, District of Columbia, Distr...</td>\n",
       "      <td>4473</td>\n",
       "      <td>162981.0</td>\n",
       "      <td>1195300.0</td>\n",
       "      <td>0.168</td>\n",
       "      <td>0.9264</td>\n",
       "      <td>0.641</td>\n",
       "      <td>0.305</td>\n",
       "      <td>0.035</td>\n",
       "      <td>4.0</td>\n",
       "    </tr>\n",
       "    <tr>\n",
       "      <th>3</th>\n",
       "      <td>14</td>\n",
       "      <td>300</td>\n",
       "      <td>1400000US11001000300</td>\n",
       "      <td>11001000300</td>\n",
       "      <td>Census Tract 3, District of Columbia, District...</td>\n",
       "      <td>6374</td>\n",
       "      <td>133008.0</td>\n",
       "      <td>893000.0</td>\n",
       "      <td>0.160</td>\n",
       "      <td>0.8909</td>\n",
       "      <td>0.794</td>\n",
       "      <td>0.313</td>\n",
       "      <td>0.021</td>\n",
       "      <td>2.0</td>\n",
       "    </tr>\n",
       "    <tr>\n",
       "      <th>4</th>\n",
       "      <td>15</td>\n",
       "      <td>400</td>\n",
       "      <td>1400000US11001000400</td>\n",
       "      <td>11001000400</td>\n",
       "      <td>Census Tract 4, District of Columbia, District...</td>\n",
       "      <td>1489</td>\n",
       "      <td>143229.0</td>\n",
       "      <td>1223700.0</td>\n",
       "      <td>0.120</td>\n",
       "      <td>0.7906</td>\n",
       "      <td>0.617</td>\n",
       "      <td>0.497</td>\n",
       "      <td>0.044</td>\n",
       "      <td>NaN</td>\n",
       "    </tr>\n",
       "  </tbody>\n",
       "</table>\n",
       "</div>"
      ],
      "text/plain": [
       "   OBJECTID  TRACT                   GEO       GEOID2  \\\n",
       "0        11    100  1400000US11001000100  11001000100   \n",
       "1        12    201  1400000US11001000201  11001000201   \n",
       "2        13    202  1400000US11001000202  11001000202   \n",
       "3        14    300  1400000US11001000300  11001000300   \n",
       "4        15    400  1400000US11001000400  11001000400   \n",
       "\n",
       "                                   GEO_display_label  Population    Income  \\\n",
       "0  Census Tract 1, District of Columbia, District...        5170  168477.0   \n",
       "1  Census Tract 2.01, District of Columbia, Distr...        3682       NaN   \n",
       "2  Census Tract 2.02, District of Columbia, Distr...        4473  162981.0   \n",
       "3  Census Tract 3, District of Columbia, District...        6374  133008.0   \n",
       "4  Census Tract 4, District of Columbia, District...        1489  143229.0   \n",
       "\n",
       "   Home_value  No_car_percent  Bachelor_or_higher  Employment_percent  \\\n",
       "0   1048200.0           0.181              0.9129               0.754   \n",
       "1         NaN             NaN              1.0000               0.393   \n",
       "2   1195300.0           0.168              0.9264               0.641   \n",
       "3    893000.0           0.160              0.8909               0.794   \n",
       "4   1223700.0           0.120              0.7906               0.617   \n",
       "\n",
       "   Marital_percent  Veterans_percent  Crime_count  \n",
       "0            0.489             0.082          1.0  \n",
       "1            0.010               NaN          NaN  \n",
       "2            0.305             0.035          4.0  \n",
       "3            0.313             0.021          2.0  \n",
       "4            0.497             0.044          NaN  "
      ]
     },
     "execution_count": 2,
     "metadata": {},
     "output_type": "execute_result"
    }
   ],
   "source": [
    "dc_data_df = pd.read_csv('dc_data_to_model.csv')\n",
    "dc_data_df.drop('Unnamed: 0', axis=1, inplace=True)\n",
    "dc_data_df.head()\n",
    "#dc_data_df.info()"
   ]
  },
  {
   "cell_type": "markdown",
   "metadata": {},
   "source": [
    "### Preparing the target and features for machine learning"
   ]
  },
  {
   "cell_type": "code",
   "execution_count": 3,
   "metadata": {},
   "outputs": [
    {
     "name": "stdout",
     "output_type": "stream",
     "text": [
      "<class 'pandas.core.frame.DataFrame'>\n",
      "RangeIndex: 179 entries, 0 to 178\n",
      "Data columns (total 14 columns):\n",
      "OBJECTID              179 non-null int64\n",
      "TRACT                 179 non-null int64\n",
      "GEO                   179 non-null object\n",
      "GEOID2                179 non-null int64\n",
      "GEO_display_label     179 non-null object\n",
      "Population            179 non-null int64\n",
      "Income                177 non-null float64\n",
      "Home_value            172 non-null float64\n",
      "No_car_percent        175 non-null float64\n",
      "Bachelor_or_higher    178 non-null float64\n",
      "Employment_percent    178 non-null float64\n",
      "Marital_percent       178 non-null float64\n",
      "Veterans_percent      177 non-null float64\n",
      "Crime_count           165 non-null float64\n",
      "dtypes: float64(8), int64(4), object(2)\n",
      "memory usage: 19.7+ KB\n"
     ]
    }
   ],
   "source": [
    "dc_data_df.info()"
   ]
  },
  {
   "cell_type": "code",
   "execution_count": 6,
   "metadata": {},
   "outputs": [
    {
     "data": {
      "text/plain": [
       "OBJECTID               0\n",
       "TRACT                  0\n",
       "GEO                    0\n",
       "GEOID2                 0\n",
       "GEO_display_label      0\n",
       "Population             0\n",
       "Income                 2\n",
       "Home_value             7\n",
       "No_car_percent         4\n",
       "Bachelor_or_higher     1\n",
       "Employment_percent     1\n",
       "Marital_percent        1\n",
       "Veterans_percent       2\n",
       "Crime_count           14\n",
       "dtype: int64"
      ]
     },
     "execution_count": 6,
     "metadata": {},
     "output_type": "execute_result"
    }
   ],
   "source": [
    "dc_data_df.isna().sum()"
   ]
  },
  {
   "cell_type": "markdown",
   "metadata": {},
   "source": [
    "Not much NaN. Will replace them with 0"
   ]
  },
  {
   "cell_type": "code",
   "execution_count": 9,
   "metadata": {},
   "outputs": [
    {
     "data": {
      "text/plain": [
       "OBJECTID              0\n",
       "TRACT                 0\n",
       "GEO                   0\n",
       "GEOID2                0\n",
       "GEO_display_label     0\n",
       "Population            0\n",
       "Income                0\n",
       "Home_value            0\n",
       "No_car_percent        0\n",
       "Bachelor_or_higher    0\n",
       "Employment_percent    0\n",
       "Marital_percent       0\n",
       "Veterans_percent      0\n",
       "Crime_count           0\n",
       "dtype: int64"
      ]
     },
     "execution_count": 9,
     "metadata": {},
     "output_type": "execute_result"
    }
   ],
   "source": [
    "dc_data_df = dc_data_df.fillna(0)\n",
    "#dc_data_df.isna().sum()"
   ]
  },
  {
   "cell_type": "code",
   "execution_count": 10,
   "metadata": {},
   "outputs": [
    {
     "data": {
      "text/plain": [
       "count    179.000000\n",
       "mean       8.720670\n",
       "std        8.705556\n",
       "min        0.000000\n",
       "25%        2.500000\n",
       "50%        6.000000\n",
       "75%       12.000000\n",
       "max       49.000000\n",
       "Name: Crime_count, dtype: float64"
      ]
     },
     "execution_count": 10,
     "metadata": {},
     "output_type": "execute_result"
    }
   ],
   "source": [
    "dc_data_df['Crime_count'].describe()"
   ]
  },
  {
   "cell_type": "code",
   "execution_count": 13,
   "metadata": {},
   "outputs": [
    {
     "data": {
      "image/png": "[encoded data removed]",
      "text/plain": [
       "<Figure size 1152x144 with 1 Axes>"
      ]
     },
     "metadata": {
      "needs_background": "light"
     },
     "output_type": "display_data"
    }
   ],
   "source": [
    "red_box = dict(markerfacecolor='r', markeredgecolor='r', marker='.')\n",
    "dc_data_df['Crime_count'].plot(kind='box', xlim=(0, 50), vert=False, flierprops=red_box, figsize=(16,2));"
   ]
  },
  {
   "cell_type": "markdown",
   "metadata": {},
   "source": [
    "The target is crime. However, instead of just the count, it would be better to create a new column that will split the crime_count into high or not. Based on the graph above, 75% of violent crimes have a count of up to 12. If crime count is 12 or greater, I will consider it as a high crime count. Otherwise, the area would be considered not a high violent crime area."
   ]
  },
  {
   "cell_type": "code",
   "execution_count": 14,
   "metadata": {},
   "outputs": [],
   "source": [
    "dc_data_df['High_crime'] = dc_data_df['Crime_count'].apply(lambda x: 1 if x >= 12 else 0)\n",
    "dc_data_df.tail()"
   ]
  },
  {
   "cell_type": "markdown",
   "metadata": {},
   "source": [
    "Only two columns are objects and neither are relevant for my model, so I will just ignore them as appose to changing them to a category or one-hot-encoding."
   ]
  },
  {
   "cell_type": "code",
   "execution_count": 19,
   "metadata": {},
   "outputs": [],
   "source": [
    "dc_data_df = dc_data_df.reset_index() # had to reset the index for my models to work\n",
    "\n",
    "# features or X\n",
    "features = dc_data_df[['Population', 'Income', 'Home_value', 'No_car_percent', 'Bachelor_or_higher', 'Employment_percent', \n",
    "                       'Marital_percent', 'Veterans_percent']]\n",
    "\n",
    "# target or y\n",
    "target = dc_data_df[['High_crime']]"
   ]
  },
  {
   "cell_type": "markdown",
   "metadata": {},
   "source": [
    "### Machine Learning"
   ]
  },
  {
   "cell_type": "code",
   "execution_count": 27,
   "metadata": {},
   "outputs": [],
   "source": [
    "from sklearn.pipeline import Pipeline\n",
    "from sklearn.preprocessing import StandardScaler\n",
    "from sklearn.decomposition import PCA\n",
    "from sklearn.model_selection import GridSearchCV\n",
    "from sklearn.model_selection import train_test_split\n",
    "from sklearn.metrics import mean_squared_error, r2_score\n",
    "from sklearn import svm\n",
    "from sklearn.ensemble import RandomForestClassifier\n",
    "from sklearn import tree\n",
    "from sklearn.neighbors import NearestNeighbors\n",
    "from sklearn.neighbors  import KNeighborsClassifier\n",
    "from sklearn.linear_model import LogisticRegression\n",
    "from sklearn.exceptions import DataConversionWarning\n",
    "import warnings\n",
    "warnings.filterwarnings(action='ignore', category=DataConversionWarning)\n",
    "warnings.filterwarnings('ignore')"
   ]
  },
  {
   "cell_type": "code",
   "execution_count": 20,
   "metadata": {},
   "outputs": [],
   "source": [
    "# split our data\n",
    "X_train, X_test, y_train, y_test = train_test_split(features, target, test_size=0.2)"
   ]
  },
  {
   "cell_type": "code",
   "execution_count": 21,
   "metadata": {},
   "outputs": [],
   "source": [
    "# scale data\n",
    "sc = StandardScaler()\n",
    "X_train = sc.fit_transform(X_train)\n",
    "X_test  = sc.transform(X_test)"
   ]
  },
  {
   "cell_type": "markdown",
   "metadata": {},
   "source": [
    "### Support Vector Machine: 79%"
   ]
  },
  {
   "cell_type": "code",
   "execution_count": 36,
   "metadata": {},
   "outputs": [
    {
     "name": "stdout",
     "output_type": "stream",
     "text": [
      "{'svm__C': 100, 'svm__degree': 2, 'svm__gamma': 0.001, 'svm__kernel': 'sigmoid'}\n",
      "0.7972027972027972\n"
     ]
    }
   ],
   "source": [
    "# Create the pipeline for SVM\n",
    "pipe_svm = Pipeline([('scl', StandardScaler()),\n",
    "                     ('svm', svm.SVC(random_state=123))]);\n",
    "\n",
    "# Create the grid parameter\n",
    "grid_svm = [{'svm__kernel': ['poly', 'sigmoid'],\n",
    "         'svm__C': [0.01, 1, 100],\n",
    "         'svm__degree': [2,3,4,5],\n",
    "         'svm__gamma': [0.001, 0.01]}];\n",
    "\n",
    "# Create the grid, with \"pipe\" as the estimator\n",
    "gridsearch_svm = GridSearchCV(estimator=pipe_svm,\n",
    "                  param_grid=grid_svm,\n",
    "                  scoring='accuracy',\n",
    "                  cv=3);\n",
    "\n",
    "# Fit using grid search\n",
    "gridsearch_svm.fit(X_train, y_train);\n",
    "best_parameters = gridsearch_svm.best_params_\n",
    "best_score = gridsearch_svm.best_score_\n",
    "print(best_parameters)\n",
    "print(best_score)"
   ]
  },
  {
   "cell_type": "markdown",
   "metadata": {},
   "source": [
    "### Random Forest: 83%"
   ]
  },
  {
   "cell_type": "code",
   "execution_count": 37,
   "metadata": {},
   "outputs": [
    {
     "name": "stdout",
     "output_type": "stream",
     "text": [
      "{'clf__criterion': 'gini', 'clf__max_depth': 5, 'clf__min_samples_leaf': 0.05, 'clf__min_samples_split': 2, 'clf__n_estimators': 100}\n",
      "0.8391608391608392\n"
     ]
    }
   ],
   "source": [
    "# Create the pipeline for Random Forest\n",
    "pipe_rf = Pipeline([('scl', StandardScaler()),\n",
    "                    ('clf', RandomForestClassifier(random_state=123))]);\n",
    "\n",
    "# Create the grid parameter\n",
    "grid_rf = [{'clf__n_estimators': [100, 120],\n",
    "            'clf__criterion': ['entropy', 'gini'], \n",
    "            'clf__max_depth': [5, 8, 10],\n",
    "            'clf__min_samples_leaf':[0.05, 0.1, 0.2],\n",
    "            'clf__min_samples_split':[2, 3, 10]}];\n",
    "\n",
    "# Create the grid, with \"pipe\" as the estimator\n",
    "gridsearch_rf = GridSearchCV(estimator=pipe_rf,\n",
    "                  param_grid=grid_rf,\n",
    "                  scoring='accuracy',\n",
    "                  cv=3);\n",
    "\n",
    "# Fit using grid search\n",
    "gridsearch_rf.fit(X_train, y_train);\n",
    "best_parameters = gridsearch_rf.best_params_\n",
    "best_score = gridsearch_rf.best_score_\n",
    "print(best_parameters)\n",
    "print(best_score)"
   ]
  },
  {
   "cell_type": "markdown",
   "metadata": {},
   "source": [
    "### Decison Tree: 78%"
   ]
  },
  {
   "cell_type": "code",
   "execution_count": 39,
   "metadata": {},
   "outputs": [
    {
     "name": "stdout",
     "output_type": "stream",
     "text": [
      "{'clf__criterion': 'entropy', 'clf__max_depth': 5, 'clf__min_samples_leaf': 0.1, 'clf__min_samples_split': 2}\n",
      "0.7832167832167832\n"
     ]
    }
   ],
   "source": [
    "# Create the pipeline for Decison Tree\n",
    "pipe_dt = Pipeline([('scl', StandardScaler()),\n",
    "                    ('clf', tree.DecisionTreeClassifier(random_state=123))])\n",
    "\n",
    "# Create the grid parameter\n",
    "grid_dt = [{'clf__criterion': ['entropy', 'gini'], \n",
    "            'clf__max_depth': [5, 7, 10],\n",
    "            'clf__min_samples_leaf':[0.05 ,0.1, 0.2],\n",
    "            'clf__min_samples_split':[2, 5, 10]}]\n",
    "\n",
    "# Create the grid, with \"pipe\" as the estimator\n",
    "gridsearch_dt = GridSearchCV(estimator=pipe_dt,\n",
    "                  param_grid=grid_dt,\n",
    "                  scoring='accuracy',\n",
    "                  cv=3)\n",
    "\n",
    "# Fit using grid search\n",
    "gridsearch_dt.fit(X_train, y_train);\n",
    "best_parameters = gridsearch_dt.best_params_\n",
    "best_score = gridsearch_dt.best_score_\n",
    "print(best_parameters)\n",
    "print(best_score)"
   ]
  },
  {
   "cell_type": "markdown",
   "metadata": {},
   "source": [
    "### K-nearest neighboor: 86%"
   ]
  },
  {
   "cell_type": "code",
   "execution_count": 41,
   "metadata": {},
   "outputs": [
    {
     "name": "stdout",
     "output_type": "stream",
     "text": [
      "{'clf__n_neighbors': 3, 'clf__p': 1, 'clf__weights': 'uniform'}\n",
      "0.8671328671328671\n"
     ]
    }
   ],
   "source": [
    "# Create the pipeline for kNN\n",
    "pipe_knn = Pipeline([('scl', StandardScaler()),\n",
    "                     ('clf', KNeighborsClassifier())])\n",
    "\n",
    "# Create the grid parameter\n",
    "grid_knn = [{'clf__n_neighbors': [3, 5, 7], \n",
    "            'clf__p': [1, 2],\n",
    "            'clf__weights':['uniform', 'distance']}]\n",
    "\n",
    "# Create the grid, with \"pipe\" as the estimator\n",
    "gridsearch_knn = GridSearchCV(estimator=pipe_knn,\n",
    "                  param_grid=grid_knn,\n",
    "                  scoring='accuracy',\n",
    "                  cv=3)\n",
    "\n",
    "# Fit using grid search\n",
    "gridsearch_knn.fit(X_train, y_train);\n",
    "best_parameters = gridsearch_knn.best_params_\n",
    "best_score = gridsearch_knn.best_score_\n",
    "print(best_parameters)\n",
    "print(best_score)"
   ]
  },
  {
   "cell_type": "markdown",
   "metadata": {},
   "source": [
    "### Logistic Regression: 79%"
   ]
  },
  {
   "cell_type": "code",
   "execution_count": 42,
   "metadata": {},
   "outputs": [
    {
     "name": "stdout",
     "output_type": "stream",
     "text": [
      "{'clf__C': 0.8, 'clf__penalty': 'l2', 'clf__random_state': 1}\n",
      "0.7972027972027972\n"
     ]
    }
   ],
   "source": [
    "# Create the pipeline for LR\n",
    "pipe_lr = Pipeline([('scl', StandardScaler()),\n",
    "                    ('clf', LogisticRegression())])\n",
    "\n",
    "# Create the grid parameter\n",
    "grid_lr = [{'clf__C': [0.8, 0.9, 1.0, 1.1], \n",
    "            'clf__penalty': ['l1', 'l2'],\n",
    "            'clf__random_state':[1, 5, 10]}]\n",
    "\n",
    "# Create the grid, with \"pipe\" as the estimator\n",
    "gridsearch_lr = GridSearchCV(estimator=pipe_lr,\n",
    "                  param_grid=grid_lr,\n",
    "                  scoring='accuracy',\n",
    "                  cv=3)\n",
    "\n",
    "# Fit using grid search\n",
    "gridsearch_lr.fit(X_train, y_train);\n",
    "best_parameters = gridsearch_lr.best_params_\n",
    "best_score = gridsearch_lr.best_score_\n",
    "print(best_parameters)\n",
    "print(best_score)"
   ]
  },
  {
   "cell_type": "markdown",
   "metadata": {},
   "source": [
    "From the models tested, Knn had the highest accuracy: 86%. Let's graph a confusion matrix to verify."
   ]
  },
  {
   "cell_type": "markdown",
   "metadata": {},
   "source": [
    "## Feature importance"
   ]
  },
  {
   "cell_type": "code",
   "execution_count": 49,
   "metadata": {},
   "outputs": [
    {
     "name": "stdout",
     "output_type": "stream",
     "text": [
      "[0.07501501 0.15411043 0.10908106 0.1013205  0.18217735 0.13664001\n",
      " 0.16210806 0.07954758]\n"
     ]
    },
    {
     "data": {
      "image/png": "[encoded data removed]",
      "text/plain": [
       "<Figure size 432x288 with 1 Axes>"
      ]
     },
     "metadata": {
      "needs_background": "light"
     },
     "output_type": "display_data"
    }
   ],
   "source": [
    "from sklearn.ensemble import ExtraTreesClassifier\n",
    "model = ExtraTreesClassifier()\n",
    "model.fit(features, target)\n",
    "print(model.feature_importances_) #use inbuilt class feature_importances of tree based classifiers\n",
    "#plot graph of feature importances for better visualization\n",
    "feat_importances = pd.Series(model.feature_importances_, index=features.columns)\n",
    "feat_importances.nlargest(10).sort_values().plot(kind='barh')\n",
    "plt.show()"
   ]
  },
  {
   "cell_type": "markdown",
   "metadata": {},
   "source": [
    "From the graph, we see that the three most important features are education, marital status, and income."
   ]
  }
 ],
 "metadata": {
  "kernelspec": {
   "display_name": "Python 3",
   "language": "python",
   "name": "python3"
  },
  "language_info": {
   "codemirror_mode": {
    "name": "ipython",
    "version": 3
   },
   "file_extension": ".py",
   "mimetype": "text/x-python",
   "name": "python",
   "nbconvert_exporter": "python",
   "pygments_lexer": "ipython3",
   "version": "3.6.8"
  }
 },
 "nbformat": 4,
 "nbformat_minor": 2
}
